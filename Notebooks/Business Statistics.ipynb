{
 "cells": [
  {
   "cell_type": "markdown",
   "metadata": {},
   "source": [
    "# Importing Libraries"
   ]
  },
  {
   "cell_type": "code",
   "execution_count": 1,
   "metadata": {},
   "outputs": [],
   "source": [
    "# Basic packages\n",
    "import pandas as pd\n",
    "import numpy as np\n",
    "import scipy as spy\n",
    "import seaborn as sns\n",
    "import matplotlib.pyplot as plt\n",
    "import math\n",
    "%matplotlib inline"
   ]
  },
  {
   "cell_type": "code",
   "execution_count": 2,
   "metadata": {},
   "outputs": [],
   "source": [
    "# Suppress warnings\n",
    "import warnings\n",
    "warnings.filterwarnings('ignore')"
   ]
  },
  {
   "cell_type": "markdown",
   "metadata": {},
   "source": [
    "---"
   ]
  },
  {
   "cell_type": "markdown",
   "metadata": {},
   "source": [
    "# Data ingestion"
   ]
  },
  {
   "cell_type": "code",
   "execution_count": 3,
   "metadata": {},
   "outputs": [],
   "source": [
    "# Load dataset\n",
    "data = pd.read_csv(\"InsuranceBusinessStats.csv\")"
   ]
  },
  {
   "cell_type": "markdown",
   "metadata": {},
   "source": [
    "---"
   ]
  },
  {
   "cell_type": "markdown",
   "metadata": {},
   "source": [
    "**Convert Pandas Objects to Category type**"
   ]
  },
  {
   "cell_type": "code",
   "execution_count": 4,
   "metadata": {},
   "outputs": [
    {
     "name": "stdout",
     "output_type": "stream",
     "text": [
      "<class 'pandas.core.frame.DataFrame'>\n",
      "RangeIndex: 1338 entries, 0 to 1337\n",
      "Data columns (total 7 columns):\n",
      " #   Column    Non-Null Count  Dtype   \n",
      "---  ------    --------------  -----   \n",
      " 0   age       1338 non-null   int64   \n",
      " 1   sex       1338 non-null   category\n",
      " 2   bmi       1338 non-null   float64 \n",
      " 3   children  1338 non-null   int64   \n",
      " 4   smoker    1338 non-null   category\n",
      " 5   region    1338 non-null   category\n",
      " 6   charges   1338 non-null   float64 \n",
      "dtypes: category(3), float64(2), int64(2)\n",
      "memory usage: 46.3 KB\n"
     ]
    }
   ],
   "source": [
    "# Convert variables with \"object\" type to \"category\" type\n",
    "for i in data.columns:\n",
    "    if data[i].dtypes == \"object\":\n",
    "        data[i] = data[i].astype(\"category\") \n",
    "\n",
    "# Confirm if there no variables with \"object\" type\n",
    "data.info()"
   ]
  },
  {
   "cell_type": "markdown",
   "metadata": {},
   "source": [
    "---"
   ]
  },
  {
   "cell_type": "markdown",
   "metadata": {},
   "source": [
    "**Duplicate row check function**"
   ]
  },
  {
   "cell_type": "code",
   "execution_count": 5,
   "metadata": {},
   "outputs": [],
   "source": [
    "def df_duplicate_removal(data):\n",
    "    \"\"\"\n",
    "    This function checks if there are any duplicated rows in the dataframe.\n",
    "    If any, it displays the rows, keep the first occurence and drops the \n",
    "    duplicates.\n",
    "\n",
    "    The new dataframe shape is calculated and returned\n",
    "    \"\"\"\n",
    "    # Check if duplicated rows exist\n",
    "    if any(data.duplicated() == True):\n",
    "        print(\"The following is/are the duplicated row(s) in the dataframe\")\n",
    "        # Displays the duplicated row(s)\n",
    "        display(data[data.duplicated() == True])\n",
    "        # Drops the duplicates inplace while keeping the first occurence\n",
    "        data.drop_duplicates(keep=\"first\", inplace=True)\n",
    "\n",
    "        # Check and returns the shape of the new dataframe\n",
    "        new_df_shape = data.shape\n",
    "        n_rows = new_df_shape[0]\n",
    "        n_cols = new_df_shape[1]\n",
    "        print(\n",
    "            f\"The new dataframe  consists of '{n_rows}' rows and '{n_cols}' columns\")\n",
    "    else:\n",
    "        print(\"There is/are no duplicated row(s) in the dataframe\")"
   ]
  },
  {
   "cell_type": "code",
   "execution_count": 6,
   "metadata": {},
   "outputs": [
    {
     "name": "stdout",
     "output_type": "stream",
     "text": [
      "The following is/are the duplicated row(s) in the dataframe\n"
     ]
    },
    {
     "data": {
      "text/html": [
       "<div>\n",
       "<style scoped>\n",
       "    .dataframe tbody tr th:only-of-type {\n",
       "        vertical-align: middle;\n",
       "    }\n",
       "\n",
       "    .dataframe tbody tr th {\n",
       "        vertical-align: top;\n",
       "    }\n",
       "\n",
       "    .dataframe thead th {\n",
       "        text-align: right;\n",
       "    }\n",
       "</style>\n",
       "<table border=\"1\" class=\"dataframe\">\n",
       "  <thead>\n",
       "    <tr style=\"text-align: right;\">\n",
       "      <th></th>\n",
       "      <th>age</th>\n",
       "      <th>sex</th>\n",
       "      <th>bmi</th>\n",
       "      <th>children</th>\n",
       "      <th>smoker</th>\n",
       "      <th>region</th>\n",
       "      <th>charges</th>\n",
       "    </tr>\n",
       "  </thead>\n",
       "  <tbody>\n",
       "    <tr>\n",
       "      <th>581</th>\n",
       "      <td>19</td>\n",
       "      <td>male</td>\n",
       "      <td>30.59</td>\n",
       "      <td>0</td>\n",
       "      <td>no</td>\n",
       "      <td>northwest</td>\n",
       "      <td>1639.5631</td>\n",
       "    </tr>\n",
       "  </tbody>\n",
       "</table>\n",
       "</div>"
      ],
      "text/plain": [
       "     age   sex    bmi  children smoker     region    charges\n",
       "581   19  male  30.59         0     no  northwest  1639.5631"
      ]
     },
     "metadata": {},
     "output_type": "display_data"
    },
    {
     "name": "stdout",
     "output_type": "stream",
     "text": [
      "The new dataframe  consists of '1337' rows and '7' columns\n"
     ]
    }
   ],
   "source": [
    "df_duplicate_removal(data)"
   ]
  },
  {
   "cell_type": "markdown",
   "metadata": {},
   "source": [
    "---"
   ]
  },
  {
   "cell_type": "markdown",
   "metadata": {},
   "source": [
    "**Create independent sub-lists to separate Numerical and Categorical variables for EDA**"
   ]
  },
  {
   "cell_type": "code",
   "execution_count": 7,
   "metadata": {},
   "outputs": [],
   "source": [
    "# Select numeric variables\n",
    "numeric_columns = data.select_dtypes(include=['int', 'float']).columns.tolist()\n",
    "# Select categorical variables\n",
    "categorical_columns = data.select_dtypes(include=['category']).columns.tolist()"
   ]
  },
  {
   "cell_type": "markdown",
   "metadata": {},
   "source": [
    "---"
   ]
  },
  {
   "cell_type": "markdown",
   "metadata": {},
   "source": [
    "---"
   ]
  },
  {
   "cell_type": "markdown",
   "metadata": {},
   "source": [
    "# Feature Engineering"
   ]
  },
  {
   "cell_type": "markdown",
   "metadata": {},
   "source": [
    "Binning Continuous data into Categorical Data"
   ]
  },
  {
   "cell_type": "markdown",
   "metadata": {},
   "source": [
    "**Categorizing Age**"
   ]
  },
  {
   "cell_type": "markdown",
   "metadata": {},
   "source": [
    "Let's categorize the **AGE** into groups for analysis\n",
    "Let's split age into the following groups:\n",
    "1. Young Adults (ages 18-34)\n",
    "2. Middle Age (ages 35-54)\n",
    "3. Senior Adults (ages 55-64)"
   ]
  },
  {
   "cell_type": "code",
   "execution_count": 8,
   "metadata": {},
   "outputs": [],
   "source": [
    "# Define the age bins and labels\n",
    "age_bins = [18, 35, 55, 64]\n",
    "age_label = [\"Young Adults\", \"Middle Aged\", \"Senior Adults\"]\n",
    "# Create a new column with age categories\n",
    "data['AgeGroup'] = pd.cut(\n",
    "    data['age'], bins=age_bins, include_lowest=True, right=False, labels=age_label)"
   ]
  },
  {
   "cell_type": "markdown",
   "metadata": {},
   "source": [
    "**Categorizing BMI**"
   ]
  },
  {
   "cell_type": "markdown",
   "metadata": {},
   "source": [
    "Let's categorize the **BMI** into groups for analysis\n",
    "Let's split bmi into the following groups:\n",
    "1. Under Weight (bmi < 18.5)\n",
    "2. Ideal BMI (bmi 18.5-24.9)\n",
    "3. Over Weight (bmi 25-29.9)\n",
    "4. Obese (bmi > 30)"
   ]
  },
  {
   "cell_type": "code",
   "execution_count": 9,
   "metadata": {},
   "outputs": [],
   "source": [
    "# Define the age bins and labels\n",
    "bmi_bins = [0, 18.5, 25, 30, 99]\n",
    "bmi_label = [\"Under Weight\", \"Ideal BMI\", \"Over Weight\", \"Obese\"]\n",
    "# Create a new column with age categories\n",
    "data['bmi_groups'] = pd.cut(\n",
    "    data.bmi, bmi_bins, include_lowest=True, right=False, labels=bmi_label)"
   ]
  },
  {
   "cell_type": "markdown",
   "metadata": {},
   "source": [
    "---"
   ]
  },
  {
   "cell_type": "markdown",
   "metadata": {},
   "source": [
    "# Statistical Testing"
   ]
  },
  {
   "cell_type": "markdown",
   "metadata": {},
   "source": [
    "## Do smokers file higher insurance charges compared to non-smokers?"
   ]
  },
  {
   "cell_type": "markdown",
   "metadata": {},
   "source": [
    "To achieve this we shall establish the following *hypotheses* comparing **smoker charges** and **non-smoker charges**:\n",
    "\n",
    " $H_o$ $:$ $\\text{There is NO significant difference between Smoker Charges and Non-Smoker Charges}$ \n",
    "\n",
    " $H_a$ $:$ $\\text{There is a significant difference between Smoker Charges and Non-Smoker Charges}$\n",
    "\n",
    "With a level of significance: $\\alpha = 0.05$"
   ]
  },
  {
   "cell_type": "markdown",
   "metadata": {},
   "source": [
    "The `smoker` series consists of **yes** and **no**  values to indicate *smoker* and *non-smoker*.  \n",
    "\n",
    "To obtain the `charges` of the *smoker* and *non-smoker*, we shall split the `smoker` series by the **yes** and **no** values and retrieve the corresponding `charges`.\n",
    "\n",
    "This will result in two separate numerical samples `smoker charges` and `non-smoker charges`"
   ]
  },
  {
   "cell_type": "markdown",
   "metadata": {},
   "source": [
    "**Let's do Pandas `groupby` and `describe` to get a view of the data**"
   ]
  },
  {
   "cell_type": "code",
   "execution_count": 10,
   "metadata": {},
   "outputs": [
    {
     "data": {
      "text/html": [
       "<div>\n",
       "<style scoped>\n",
       "    .dataframe tbody tr th:only-of-type {\n",
       "        vertical-align: middle;\n",
       "    }\n",
       "\n",
       "    .dataframe tbody tr th {\n",
       "        vertical-align: top;\n",
       "    }\n",
       "\n",
       "    .dataframe thead th {\n",
       "        text-align: right;\n",
       "    }\n",
       "</style>\n",
       "<table border=\"1\" class=\"dataframe\">\n",
       "  <thead>\n",
       "    <tr style=\"text-align: right;\">\n",
       "      <th></th>\n",
       "      <th>count</th>\n",
       "      <th>mean</th>\n",
       "      <th>std</th>\n",
       "      <th>min</th>\n",
       "      <th>25%</th>\n",
       "      <th>50%</th>\n",
       "      <th>75%</th>\n",
       "      <th>max</th>\n",
       "    </tr>\n",
       "    <tr>\n",
       "      <th>smoker</th>\n",
       "      <th></th>\n",
       "      <th></th>\n",
       "      <th></th>\n",
       "      <th></th>\n",
       "      <th></th>\n",
       "      <th></th>\n",
       "      <th></th>\n",
       "      <th></th>\n",
       "    </tr>\n",
       "  </thead>\n",
       "  <tbody>\n",
       "    <tr>\n",
       "      <th>no</th>\n",
       "      <td>1063.0</td>\n",
       "      <td>8440.660307</td>\n",
       "      <td>5992.973800</td>\n",
       "      <td>1121.8739</td>\n",
       "      <td>3988.883500</td>\n",
       "      <td>7345.72660</td>\n",
       "      <td>11363.019100</td>\n",
       "      <td>36910.60803</td>\n",
       "    </tr>\n",
       "    <tr>\n",
       "      <th>yes</th>\n",
       "      <td>274.0</td>\n",
       "      <td>32050.231832</td>\n",
       "      <td>11541.547176</td>\n",
       "      <td>12829.4551</td>\n",
       "      <td>20826.244213</td>\n",
       "      <td>34456.34845</td>\n",
       "      <td>41019.207275</td>\n",
       "      <td>63770.42801</td>\n",
       "    </tr>\n",
       "  </tbody>\n",
       "</table>\n",
       "</div>"
      ],
      "text/plain": [
       "         count          mean           std         min           25%  \\\n",
       "smoker                                                                 \n",
       "no      1063.0   8440.660307   5992.973800   1121.8739   3988.883500   \n",
       "yes      274.0  32050.231832  11541.547176  12829.4551  20826.244213   \n",
       "\n",
       "                50%           75%          max  \n",
       "smoker                                          \n",
       "no       7345.72660  11363.019100  36910.60803  \n",
       "yes     34456.34845  41019.207275  63770.42801  "
      ]
     },
     "execution_count": 10,
     "metadata": {},
     "output_type": "execute_result"
    }
   ],
   "source": [
    "data.groupby('smoker')['charges'].describe()"
   ]
  },
  {
   "cell_type": "markdown",
   "metadata": {},
   "source": [
    "Visually we can observe the following:\n",
    "1. There are at least **3** times as many `non-smokers` as there are `smokers`\n",
    "2. The mean of `smoker charges` is at least **3 times that of the mean of `non-smoker charges`."
   ]
  },
  {
   "cell_type": "markdown",
   "metadata": {},
   "source": [
    "**Now let's split the charges series into smokers and non-smokers**"
   ]
  },
  {
   "cell_type": "code",
   "execution_count": 11,
   "metadata": {},
   "outputs": [],
   "source": [
    "smoker_charges = data[data[\"smoker\"]==\"yes\"][\"charges\"]\n",
    "non_smoker_charges = data[data[\"smoker\"]==\"no\"][\"charges\"]"
   ]
  },
  {
   "cell_type": "markdown",
   "metadata": {},
   "source": [
    "Let's visualize the distribution of both samples"
   ]
  },
  {
   "cell_type": "code",
   "execution_count": 12,
   "metadata": {},
   "outputs": [
    {
     "data": {
      "image/png": "[encoded data removed]",
      "text/plain": [
       "<Figure size 1200x400 with 2 Axes>"
      ]
     },
     "metadata": {},
     "output_type": "display_data"
    }
   ],
   "source": [
    "fig = plt.figure(figsize=(12, 4))\n",
    "sns.set_style(\"darkgrid\")\n",
    "ax = fig.add_subplot(121)\n",
    "sns.distplot(smoker_charges, color='orange',).set_title(\n",
    "    'Distribution of charges for smokers')\n",
    "ax = fig.add_subplot(122)\n",
    "sns.distplot(non_smoker_charges, color='m').set_title(\n",
    "    'Distribution of charges for non-smokers')\n",
    "sns.reset_defaults()"
   ]
  },
  {
   "cell_type": "markdown",
   "metadata": {},
   "source": [
    "**Observation:** \n",
    "\n",
    "* The **Smoker Charges** distribution appear to be *bi-modal* while the **Non-smoker Charges** appear to be *right skewed*."
   ]
  },
  {
   "cell_type": "markdown",
   "metadata": {},
   "source": [
    "In order to evaluate the hypotheses, let conduct an analysis to see which testing procedure will be suitable.\n",
    "\n",
    "Lets checks its validity for **Parametric testing**.  \n",
    "The following assumptions need to be fulfilled before administering any parametric tests.\n",
    "1. Independence\n",
    "2. Normality\n",
    "3. Samples have equal variances"
   ]
  },
  {
   "cell_type": "markdown",
   "metadata": {},
   "source": [
    "<span style=\"font-family: Arial; font-weight:bold;color:blue;\">**Test for Independence**"
   ]
  },
  {
   "cell_type": "markdown",
   "metadata": {},
   "source": [
    "Since the `smoker_charges` and `non_smoker_charges` both come from independent portions of the `charges` data, they can be assumed as independent groups."
   ]
  },
  {
   "cell_type": "markdown",
   "metadata": {},
   "source": [
    "<span style=\"font-family: Arial; font-weight:bold;color:blue;\">**Test for Normality**"
   ]
  },
  {
   "cell_type": "markdown",
   "metadata": {},
   "source": [
    "To conduct a test for normality we use the `Shapiro test`.\n",
    "\n",
    "It evaluates normality by comparing the data's distribution to the hypothesized normal distribution by assuming the observations in each sample are independent and identically distributed.\n",
    "\n",
    "$H_o$ $:$ $\\text{Normal distribution}$  \n",
    "\n",
    "$H_a$ $:$ $\\text{Not a Normal distribution}$\n",
    "\n",
    "With a level of significance: $\\alpha = 0.05$"
   ]
  },
  {
   "cell_type": "markdown",
   "metadata": {},
   "source": [
    "Import `shapiro` function from scipy"
   ]
  },
  {
   "cell_type": "code",
   "execution_count": 13,
   "metadata": {},
   "outputs": [],
   "source": [
    "from scipy.stats import shapiro"
   ]
  },
  {
   "cell_type": "markdown",
   "metadata": {},
   "source": [
    "`Shapiro test` for **smoker_charges**"
   ]
  },
  {
   "cell_type": "code",
   "execution_count": 14,
   "metadata": {},
   "outputs": [
    {
     "name": "stdout",
     "output_type": "stream",
     "text": [
      " The Shapiro test p-value is 3.6255991542333277e-09\n",
      "The smoker_charges sample distribution is not Normal as Shapiro p-value < 0.05\n"
     ]
    }
   ],
   "source": [
    "stat, p = shapiro(smoker_charges)\n",
    "print(\" The Shapiro test p-value is {}\".format(p))\n",
    "if p > 0.05:\n",
    "    print('The smoker_charges sample is approximately Normal as Shapiro p-value > 0.05')\n",
    "else:\n",
    "    print('The smoker_charges sample distribution is not Normal as Shapiro p-value < 0.05')"
   ]
  },
  {
   "cell_type": "markdown",
   "metadata": {},
   "source": [
    "`Shapiro test` for **non_smoker_charges**"
   ]
  },
  {
   "cell_type": "code",
   "execution_count": 15,
   "metadata": {},
   "outputs": [
    {
     "name": "stdout",
     "output_type": "stream",
     "text": [
      " The Shapiro test p-value is 1.503623581761669e-28\n",
      "The non_smoker_charges sample distribution is not Normal as Shapiro p-value < 0.05\n"
     ]
    }
   ],
   "source": [
    "stat, p = shapiro(non_smoker_charges)\n",
    "print(\" The Shapiro test p-value is {}\".format(p))\n",
    "if p > 0.05:\n",
    "    print('The non_smoker_charges sample is approximately Normal as Shapiro p-value > 0.05')\n",
    "else:\n",
    "    print('The non_smoker_charges sample distribution is not Normal as Shapiro p-value < 0.05')"
   ]
  },
  {
   "cell_type": "markdown",
   "metadata": {},
   "source": [
    "Based on the `Shapiro test` for each variable, we get a **p-value <0.05** and **Reject the Null Hypothesis**. "
   ]
  },
  {
   "cell_type": "markdown",
   "metadata": {},
   "source": [
    "<font color='red'> Therefore we can conclude that the **smoker_charges** and **non_smoker_charges** distributions both indicate **non-normality** at the **5% significance level** "
   ]
  },
  {
   "cell_type": "markdown",
   "metadata": {},
   "source": [
    "<span style=\"font-family: Arial; font-weight:bold;color:blue;\">**Test for Equal Variances**"
   ]
  },
  {
   "cell_type": "markdown",
   "metadata": {},
   "source": [
    "We shall conduct the `Levene` test for equal variances across series."
   ]
  },
  {
   "cell_type": "markdown",
   "metadata": {},
   "source": [
    "To conduct a test for equal variances we shall use the `Levene test`.\n",
    "\n",
    "It tests the null hypothesis that all input samples are from populations with equal variances\n",
    "\n",
    "$H_o$ $:$ $\\text{The sample variances of both samples are equal}$ \n",
    "\n",
    "$H_a$ $:$ $\\text{The sample variances of both samples are NOT equal}$\n",
    "\n",
    "With a level of significance: $\\alpha = 0.05$"
   ]
  },
  {
   "cell_type": "markdown",
   "metadata": {},
   "source": [
    "Import `Levene` function from scipy"
   ]
  },
  {
   "cell_type": "code",
   "execution_count": 16,
   "metadata": {},
   "outputs": [],
   "source": [
    "from scipy.stats import levene"
   ]
  },
  {
   "cell_type": "code",
   "execution_count": 17,
   "metadata": {},
   "outputs": [
    {
     "name": "stdout",
     "output_type": "stream",
     "text": [
      " The Levene test p-value is 1.670117565125241e-66\n",
      "The smoker_charges & non_smoker_charges samples DO NOT have equal variances as Levene p-value < 0.05\n"
     ]
    }
   ],
   "source": [
    "stat, p = levene(smoker_charges,non_smoker_charges)\n",
    "print(\" The Levene test p-value is {}\".format(p))\n",
    "if p > 0.05:\n",
    "    print('The smoker_charges & non_smoker_charges samples DO have equal variances as Levene p-value > 0.05')\n",
    "else:\n",
    "    print('The smoker_charges & non_smoker_charges samples DO NOT have equal variances as Levene p-value < 0.05')"
   ]
  },
  {
   "cell_type": "markdown",
   "metadata": {},
   "source": [
    "Based on the `Levene test`, we get a **p-value <0.05** and **Reject the Null Hypothesis**. "
   ]
  },
  {
   "cell_type": "markdown",
   "metadata": {},
   "source": [
    "<font color='red'> Therefore we can conclude that the **smoker_charges** and **non_smoker_charges** samples **do not** have equal variances at the **5% significance level**"
   ]
  },
  {
   "cell_type": "markdown",
   "metadata": {},
   "source": [
    "Since the **smoker_charges** and **non_smoker_charges** samples do not fulfill the **Normality and Equal Variances** of the assumptions for **Parametric tests**.  \n",
    "\n",
    "We need to progress by conducting a **Non-Parametric test**"
   ]
  },
  {
   "cell_type": "markdown",
   "metadata": {},
   "source": [
    "<span style=\"font-family: Arial; font-weight:bold;color:blue;\">**Non-Parametric Test**"
   ]
  },
  {
   "cell_type": "markdown",
   "metadata": {},
   "source": [
    "Let's conduct the **Mann-Whitney U Test** as there are 2 samples.\n",
    "\n",
    "Tests whether the distributions of two independent samples are equal or not.\n",
    "\n",
    "$H_o$ $:$ $\\text{Distributions of both samples are equal}$  \n",
    "\n",
    "$H_a$ $:$ $\\text{Distributions of both samples are not equal}$\n",
    "\n",
    "With a level of significance: $\\alpha = 0.05$"
   ]
  },
  {
   "cell_type": "markdown",
   "metadata": {},
   "source": [
    "Import `Mann-Whitney U` function from scipy"
   ]
  },
  {
   "cell_type": "code",
   "execution_count": 18,
   "metadata": {},
   "outputs": [],
   "source": [
    "from scipy.stats import mannwhitneyu"
   ]
  },
  {
   "cell_type": "code",
   "execution_count": 19,
   "metadata": {},
   "outputs": [
    {
     "name": "stdout",
     "output_type": "stream",
     "text": [
      " The Mann-Whitney U test p-value is 5.74701188239214e-130\n",
      "The smoker_charges & non_smoker_charges distributions are NOT equal as p-value < 0.05\n"
     ]
    }
   ],
   "source": [
    "stat, p = mannwhitneyu(smoker_charges,non_smoker_charges)\n",
    "print(\" The Mann-Whitney U test p-value is {}\".format(p))\n",
    "if p > 0.05:\n",
    "    print('The smoker_charges & non_smoker_charges distributions are equal as p-value > 0.05')\n",
    "else:\n",
    "    print('The smoker_charges & non_smoker_charges distributions are NOT equal as p-value < 0.05')"
   ]
  },
  {
   "cell_type": "markdown",
   "metadata": {},
   "source": [
    "Based on the Mann-Whitney U test, we get a **p-value <0.05** and **Reject the Null Hypothesis**. \n",
    "\n",
    "Therefore we can conclude that the **smoker_charges** and **non_smoker_charges** distributions are **not** equal at a **5% significance level**."
   ]
  },
  {
   "cell_type": "markdown",
   "metadata": {},
   "source": [
    "<font color='red'>Since the *Mann-Whitney U Test* Null Hypothesis was *rejected* for *pvalue <.0001*, we can state that with *99.99% confidence*, the **smokers charges differ significantly to that of the non-smokers charges**"
   ]
  },
  {
   "cell_type": "markdown",
   "metadata": {},
   "source": [
    "For completeness let's still conduct a **Parametric test** to compare its result."
   ]
  },
  {
   "cell_type": "markdown",
   "metadata": {},
   "source": [
    "<span style=\"font-family: Arial; font-weight:bold;color:blue;\">**Parametric Test**"
   ]
  },
  {
   "cell_type": "markdown",
   "metadata": {},
   "source": [
    "Let's conduct the **two sample Student's t test**\n",
    "\n",
    "Tests whether the sample means of two independent samples are equal or not.\n",
    "\n",
    "$H_o$ $:$ $\\text{Sample means of both samples are equal}$  \n",
    "\n",
    "$H_a$ $:$ $\\text{Sample means of both samples are not equal}$\n",
    "\n",
    "With a level of significance: $\\alpha = 0.05$"
   ]
  },
  {
   "cell_type": "markdown",
   "metadata": {},
   "source": [
    "Import `ttest_ind` function from scipy"
   ]
  },
  {
   "cell_type": "code",
   "execution_count": 20,
   "metadata": {},
   "outputs": [],
   "source": [
    "from scipy.stats import ttest_ind"
   ]
  },
  {
   "cell_type": "code",
   "execution_count": 21,
   "metadata": {},
   "outputs": [
    {
     "name": "stdout",
     "output_type": "stream",
     "text": [
      " The two sample Student's t test p-value is 1.4067220949376498e-282\n",
      "The smoker_charges & non_smoker_charges sample means are NOT equal as p-value < .05\n"
     ]
    }
   ],
   "source": [
    "t_stat, p =ttest_ind(smoker_charges, non_smoker_charges)\n",
    "print(\" The two sample Student's t test p-value is {}\".format(p))\n",
    "if p > 0.05:\n",
    "    print('The smoker_charges & non_smoker_charges sample means are equal as p-value > .05')\n",
    "else:\n",
    "    print('The smoker_charges & non_smoker_charges sample means are NOT equal as p-value < .05')"
   ]
  },
  {
   "cell_type": "markdown",
   "metadata": {},
   "source": [
    "Based on the **two sample Student's t test**, we get a **p-value <.05** and **Reject the Null Hypothesis**.\n",
    "\n",
    "Therefore we can conclude that the`smoker_charges` and `non_smoker_charges` sample means are **not** equal at a **5% significance level**. \n",
    "    \n",
    "<font color='red'>Since the *two sample Student's t test* Null Hypothesis was *rejected* for *pvalue <.0001*, we can state that with *99.99% confidence*, the **smokers charges differ significantly to that of the non-smokers charges**"
   ]
  },
  {
   "cell_type": "markdown",
   "metadata": {},
   "source": [
    "---"
   ]
  },
  {
   "cell_type": "markdown",
   "metadata": {},
   "source": [
    "## Does the BMI of Females differ from the BMI of Males?"
   ]
  },
  {
   "cell_type": "markdown",
   "metadata": {},
   "source": [
    "To achieve this we shall establish following hypotheses comparing `Female BMI` and `Male BMI`:\n",
    "\n",
    "$H_o$ $:$ $\\text{The BMI of the Female customers does NOT significantly differ from the BMI of the Male customers}$\n",
    "\n",
    "$H_a$ $:$ $\\text{The BMI of the Female customers does significantly differ from the BMI of the Male customers}$\n",
    "\n",
    "With a level of significance: $\\alpha = 0.05$"
   ]
  },
  {
   "cell_type": "markdown",
   "metadata": {},
   "source": [
    "The `sex` series consists of **male** and **female**  values.\n",
    "\n",
    "We shall split the `sex` series by the **male** and **female** values and retrieve the corresponding `bmi`.\n",
    "\n",
    "This will result in two separate numerical samples `male_bmi` and `female_bmi`"
   ]
  },
  {
   "cell_type": "markdown",
   "metadata": {},
   "source": [
    "**Let's do Pandas `groupby` and `describe` to get a view of the data**"
   ]
  },
  {
   "cell_type": "code",
   "execution_count": 22,
   "metadata": {},
   "outputs": [
    {
     "data": {
      "text/html": [
       "<div>\n",
       "<style scoped>\n",
       "    .dataframe tbody tr th:only-of-type {\n",
       "        vertical-align: middle;\n",
       "    }\n",
       "\n",
       "    .dataframe tbody tr th {\n",
       "        vertical-align: top;\n",
       "    }\n",
       "\n",
       "    .dataframe thead th {\n",
       "        text-align: right;\n",
       "    }\n",
       "</style>\n",
       "<table border=\"1\" class=\"dataframe\">\n",
       "  <thead>\n",
       "    <tr style=\"text-align: right;\">\n",
       "      <th></th>\n",
       "      <th>count</th>\n",
       "      <th>mean</th>\n",
       "      <th>std</th>\n",
       "      <th>min</th>\n",
       "      <th>25%</th>\n",
       "      <th>50%</th>\n",
       "      <th>75%</th>\n",
       "      <th>max</th>\n",
       "    </tr>\n",
       "    <tr>\n",
       "      <th>sex</th>\n",
       "      <th></th>\n",
       "      <th></th>\n",
       "      <th></th>\n",
       "      <th></th>\n",
       "      <th></th>\n",
       "      <th></th>\n",
       "      <th></th>\n",
       "      <th></th>\n",
       "    </tr>\n",
       "  </thead>\n",
       "  <tbody>\n",
       "    <tr>\n",
       "      <th>female</th>\n",
       "      <td>662.0</td>\n",
       "      <td>30.377749</td>\n",
       "      <td>6.046023</td>\n",
       "      <td>16.815</td>\n",
       "      <td>26.125</td>\n",
       "      <td>30.1075</td>\n",
       "      <td>34.31375</td>\n",
       "      <td>48.07</td>\n",
       "    </tr>\n",
       "    <tr>\n",
       "      <th>male</th>\n",
       "      <td>675.0</td>\n",
       "      <td>30.943652</td>\n",
       "      <td>6.144973</td>\n",
       "      <td>15.960</td>\n",
       "      <td>26.410</td>\n",
       "      <td>30.6900</td>\n",
       "      <td>35.02500</td>\n",
       "      <td>53.13</td>\n",
       "    </tr>\n",
       "  </tbody>\n",
       "</table>\n",
       "</div>"
      ],
      "text/plain": [
       "        count       mean       std     min     25%      50%       75%    max\n",
       "sex                                                                         \n",
       "female  662.0  30.377749  6.046023  16.815  26.125  30.1075  34.31375  48.07\n",
       "male    675.0  30.943652  6.144973  15.960  26.410  30.6900  35.02500  53.13"
      ]
     },
     "execution_count": 22,
     "metadata": {},
     "output_type": "execute_result"
    }
   ],
   "source": [
    "data.groupby('sex')['bmi'].describe()"
   ]
  },
  {
   "cell_type": "markdown",
   "metadata": {},
   "source": [
    "Visually we can observe the following:\n",
    "1. There are close to equal quantity of males and females in the dataset.\n",
    "\n",
    "2. THe mean bmi of male and female customer are very close to equal in the dataset.\n"
   ]
  },
  {
   "cell_type": "markdown",
   "metadata": {},
   "source": [
    "**Now let's split the bmi series into male_bmi and female_bmi**"
   ]
  },
  {
   "cell_type": "code",
   "execution_count": 23,
   "metadata": {},
   "outputs": [],
   "source": [
    "male_bmi = data[data[\"sex\"]==\"male\"][\"bmi\"]\n",
    "female_bmi = data[data[\"sex\"]==\"female\"][\"bmi\"]"
   ]
  },
  {
   "cell_type": "markdown",
   "metadata": {},
   "source": [
    "Let's visualize the distribution of both samples"
   ]
  },
  {
   "cell_type": "code",
   "execution_count": 24,
   "metadata": {},
   "outputs": [
    {
     "data": {
      "image/png": "[encoded data removed]",
      "text/plain": [
       "<Figure size 1200x400 with 2 Axes>"
      ]
     },
     "metadata": {},
     "output_type": "display_data"
    }
   ],
   "source": [
    "fig = plt.figure(figsize=(12, 4))\n",
    "sns.set_style(\"darkgrid\")\n",
    "ax = fig.add_subplot(121)\n",
    "sns.distplot(male_bmi, color='orange',).set_title(\n",
    "    'Distribution of charges for Male BMI')\n",
    "ax = fig.add_subplot(122)\n",
    "sns.distplot(female_bmi, color='m').set_title(\n",
    "    'Distribution of charges for Female BMI')\n",
    "sns.reset_defaults()\n",
    "plt.show()"
   ]
  },
  {
   "cell_type": "markdown",
   "metadata": {},
   "source": [
    "**Observation:** \n",
    "\n",
    "* Visually the distribution of the **Male BMI** and **Female BMI** both appear to be **normal**"
   ]
  },
  {
   "cell_type": "markdown",
   "metadata": {},
   "source": [
    "In order to evaluate the hypotheses, let conduct an analysis to see which testing procedure will be suitable.\n",
    "\n",
    "Lets checks its validity for **Parametric testing**.  \n",
    "The following assumptions need to be fulfilled before administering any parametric tests.\n",
    "1. Independence\n",
    "2. Normality\n",
    "3. Samples have equal variances"
   ]
  },
  {
   "cell_type": "markdown",
   "metadata": {},
   "source": [
    "<span style=\"font-family: Arial; font-weight:bold;color:blue;\">**Test for Independence**"
   ]
  },
  {
   "cell_type": "markdown",
   "metadata": {},
   "source": [
    "Since the `male_bmi` and `female_bmi` both come from independent portions of the `bmi` data, they can be assumed as independent groups."
   ]
  },
  {
   "cell_type": "markdown",
   "metadata": {},
   "source": [
    "<span style=\"font-family: Arial; font-weight:bold;color:blue;\">**Test for Normality**"
   ]
  },
  {
   "cell_type": "markdown",
   "metadata": {},
   "source": [
    "We shall conduct the Shapiro test for each series to determine its fit to normality"
   ]
  },
  {
   "cell_type": "markdown",
   "metadata": {},
   "source": [
    "`Shapiro test` for **male_bmi**"
   ]
  },
  {
   "cell_type": "code",
   "execution_count": 25,
   "metadata": {},
   "outputs": [
    {
     "name": "stdout",
     "output_type": "stream",
     "text": [
      " The Shapiro test p-value is 0.003164957743138075\n",
      "The female_bmi sample distribution is NOT Normal as Shapiro p-value < 0.05\n"
     ]
    }
   ],
   "source": [
    "stat, p = shapiro(male_bmi)\n",
    "print(\" The Shapiro test p-value is {}\".format(p))\n",
    "if p > 0.05:\n",
    "    print('The male_bmi sample is approximately Normal as Shapiro p-value > 0.05')\n",
    "else:\n",
    "    print('The female_bmi sample distribution is NOT Normal as Shapiro p-value < 0.05')"
   ]
  },
  {
   "cell_type": "markdown",
   "metadata": {},
   "source": [
    "`Shapiro test` for **female_bmi**"
   ]
  },
  {
   "cell_type": "code",
   "execution_count": 26,
   "metadata": {},
   "outputs": [
    {
     "name": "stdout",
     "output_type": "stream",
     "text": [
      " The Shapiro test p-value is 0.003545489627867937\n",
      "The female_bmi sample distribution is not Normal as Shapiro p-value < 0.05\n"
     ]
    }
   ],
   "source": [
    "stat, p = shapiro(female_bmi)\n",
    "print(\" The Shapiro test p-value is {}\".format(p))\n",
    "if p > 0.05:\n",
    "    print('The male_bmi sample is approximately Normal as Shapiro p-value > 0.05')\n",
    "else:\n",
    "    print('The female_bmi sample distribution is not Normal as Shapiro p-value < 0.05')"
   ]
  },
  {
   "cell_type": "markdown",
   "metadata": {},
   "source": [
    "Based on the `Shapiro test` for each variable, we get a **p-value <0.05** and **Reject the Null Hypothesis**. "
   ]
  },
  {
   "cell_type": "markdown",
   "metadata": {},
   "source": [
    "<font color='red'> Therefore we can conclude that the **male_bmi** and **female_bmi** both indicate **non-normality** at the *5% significance level* "
   ]
  },
  {
   "cell_type": "markdown",
   "metadata": {},
   "source": [
    "<span style=\"font-family: Arial; font-weight:bold;color:blue;\">**Test for Equal Variances**"
   ]
  },
  {
   "cell_type": "markdown",
   "metadata": {},
   "source": [
    "We shall conduct the `Levene` test for equal variances across series."
   ]
  },
  {
   "cell_type": "markdown",
   "metadata": {},
   "source": [
    "`Levene` test for `male_bmi` and `female_bmi` series."
   ]
  },
  {
   "cell_type": "code",
   "execution_count": 27,
   "metadata": {},
   "outputs": [
    {
     "name": "stdout",
     "output_type": "stream",
     "text": [
      " The Levene test p-value is 0.9216570820140155\n",
      "The male_bmi & female_bmi samples DO have equal variances as Levene p-value > 0.05\n"
     ]
    }
   ],
   "source": [
    "stat, p = levene(male_bmi,female_bmi)\n",
    "print(\" The Levene test p-value is {}\".format(p))\n",
    "if p > 0.05:\n",
    "    print('The male_bmi & female_bmi samples DO have equal variances as Levene p-value > 0.05')\n",
    "else:\n",
    "    print('The male_bmi & female_bmi samples DO NOT have equal variances as Levene p-value < 0.05')"
   ]
  },
  {
   "cell_type": "markdown",
   "metadata": {},
   "source": [
    "Based on the `Levene test`, we get a **p-value >0.05** and **Fail to Reject the Null Hypothesis**. "
   ]
  },
  {
   "cell_type": "markdown",
   "metadata": {},
   "source": [
    "<font color='red'>Therefore we can conclude that the **male_bmi** and **female_bmi** samples **do** have equal variances at the *5% significance level*"
   ]
  },
  {
   "cell_type": "markdown",
   "metadata": {},
   "source": [
    "Since the *Shapiro test* indicated *non-normality* at a *5% significance level* but the *Levene test* also indicated that the *variances are equal* at the same significance level, it is **safe** to proceed with **Parametric tests** to determine validity of the initial hypotheses."
   ]
  },
  {
   "cell_type": "markdown",
   "metadata": {},
   "source": [
    "<span style=\"font-family: Arial; font-weight:bold;color:blue;\">**Parametric Test**"
   ]
  },
  {
   "cell_type": "markdown",
   "metadata": {},
   "source": [
    "Let's conduct the **two sample Student's t test**"
   ]
  },
  {
   "cell_type": "code",
   "execution_count": 28,
   "metadata": {},
   "outputs": [
    {
     "name": "stdout",
     "output_type": "stream",
     "text": [
      " The two sample Student's t test p-value is 0.08991704324931137\n",
      "The male_bmi & female_bmi sample means are equal as p-value > 0.05\n"
     ]
    }
   ],
   "source": [
    "t_stat, p =ttest_ind(male_bmi, female_bmi)\n",
    "print(\" The two sample Student's t test p-value is {}\".format(p))\n",
    "if p > 0.05:\n",
    "    print('The male_bmi & female_bmi sample means are equal as p-value > 0.05')\n",
    "else:\n",
    "    print('The male_bmi & female_bmi sample means are NOT equal as p-value < 0.05')"
   ]
  },
  {
   "cell_type": "markdown",
   "metadata": {},
   "source": [
    "Based on the two sample Student's t test, we get a **p-value >0.05** and **Fail to Reject the Null Hypothesis**. \n",
    "\n",
    "Therefore we can conclude that the **male_bmi** and **female_bmi** sample means **are** equal at a **95% confidence level**"
   ]
  },
  {
   "cell_type": "markdown",
   "metadata": {},
   "source": [
    "<font color='red'>Since the *two sample Student's t test* Null Hypothesis was *failed to be rejected* at a *pvalue >0.05*, we can state that with *95% confidence*, the **BMI of females customers does NOT differ significantly from the BMI of males**"
   ]
  },
  {
   "cell_type": "markdown",
   "metadata": {},
   "source": [
    "---"
   ]
  },
  {
   "cell_type": "markdown",
   "metadata": {},
   "source": [
    "## Is the proportion of smokers significantly different across different regions?"
   ]
  },
  {
   "cell_type": "markdown",
   "metadata": {},
   "source": [
    "To achieve this we shall establish following hypotheses comparing `smoker` and `region`:\n",
    "\n",
    "$H_o$ $:$ $\\text{There is NO significant difference in the proportion of smokers in different regionn, i.e, Smoker and Region are independent}$\n",
    "\n",
    "$H_a$ $:$ $\\text{There is a significant difference in the proportion of smokers in different regions, i.e., Smoker and Region are not independent}$\n",
    "\n",
    "With a level of significance: $\\alpha = 0.05$"
   ]
  },
  {
   "cell_type": "markdown",
   "metadata": {},
   "source": [
    "The `smoker` series consists of **yes** and **no**  values to indicate *smoker* and *non-smoker*.  \n",
    "\n",
    "The `region` series consists of `southwest`, `southeast`, `northwest`, `northeast` values to indicate the US geographical area where the customers belong.\n",
    "\n",
    "The `smoker` and `region` are both *categorical* variables.\n",
    "\n",
    "To visualize the frequency of *smoker* and *non-smoker* across each region, the frequency or count will need to equated."
   ]
  },
  {
   "cell_type": "markdown",
   "metadata": {},
   "source": [
    "**Let's do Pandas `crosstab` to create a simple cross tabulation (contingency table) or frequency table of the `smoker` and `region` variables.**"
   ]
  },
  {
   "cell_type": "code",
   "execution_count": 29,
   "metadata": {},
   "outputs": [
    {
     "data": {
      "text/html": [
       "<div>\n",
       "<style scoped>\n",
       "    .dataframe tbody tr th:only-of-type {\n",
       "        vertical-align: middle;\n",
       "    }\n",
       "\n",
       "    .dataframe tbody tr th {\n",
       "        vertical-align: top;\n",
       "    }\n",
       "\n",
       "    .dataframe thead th {\n",
       "        text-align: right;\n",
       "    }\n",
       "</style>\n",
       "<table border=\"1\" class=\"dataframe\">\n",
       "  <thead>\n",
       "    <tr style=\"text-align: right;\">\n",
       "      <th>region</th>\n",
       "      <th>northeast</th>\n",
       "      <th>northwest</th>\n",
       "      <th>southeast</th>\n",
       "      <th>southwest</th>\n",
       "    </tr>\n",
       "    <tr>\n",
       "      <th>smoker</th>\n",
       "      <th></th>\n",
       "      <th></th>\n",
       "      <th></th>\n",
       "      <th></th>\n",
       "    </tr>\n",
       "  </thead>\n",
       "  <tbody>\n",
       "    <tr>\n",
       "      <th>no</th>\n",
       "      <td>257</td>\n",
       "      <td>266</td>\n",
       "      <td>273</td>\n",
       "      <td>267</td>\n",
       "    </tr>\n",
       "    <tr>\n",
       "      <th>yes</th>\n",
       "      <td>67</td>\n",
       "      <td>58</td>\n",
       "      <td>91</td>\n",
       "      <td>58</td>\n",
       "    </tr>\n",
       "  </tbody>\n",
       "</table>\n",
       "</div>"
      ],
      "text/plain": [
       "region  northeast  northwest  southeast  southwest\n",
       "smoker                                            \n",
       "no            257        266        273        267\n",
       "yes            67         58         91         58"
      ]
     },
     "execution_count": 29,
     "metadata": {},
     "output_type": "execute_result"
    }
   ],
   "source": [
    "contingency_table = pd.crosstab(data['smoker'], data['region'])\n",
    "contingency_table"
   ]
  },
  {
   "cell_type": "markdown",
   "metadata": {},
   "source": [
    "We shall assume the `smoker` and `region` are both independent as the variables were collected independently of each other."
   ]
  },
  {
   "cell_type": "markdown",
   "metadata": {},
   "source": [
    "Therefore in order to evaluate the hypotheses, let's conduct the **Chi-square test of independence**.\n",
    "\n",
    "The **Chi-square test of independence** evaluates dependence between categorical variables.\n",
    "\n",
    "$H_o$ $:$ $\\text{Variables are independent}$  \n",
    "\n",
    "$H_a$ $:$ $\\text{Variables are not independent}$\n",
    "\n",
    "With a level of significance: $\\alpha = 0.05$\n",
    "\n",
    "This will generate the chi-square statistic, p-value, degrees of freedom and expected frequencies for the hypothesis test of independence of the observed frequencies in the contingency table."
   ]
  },
  {
   "cell_type": "markdown",
   "metadata": {},
   "source": [
    "Import `chi2_contingency` function from scipy"
   ]
  },
  {
   "cell_type": "code",
   "execution_count": 30,
   "metadata": {},
   "outputs": [],
   "source": [
    "from scipy.stats import chi2_contingency"
   ]
  },
  {
   "cell_type": "markdown",
   "metadata": {},
   "source": [
    "`Chi-square test of independence` of variables in a contingency table."
   ]
  },
  {
   "cell_type": "code",
   "execution_count": 31,
   "metadata": {},
   "outputs": [],
   "source": [
    "chi2_stat, p, dof, expected = chi2_contingency(contingency_table)"
   ]
  },
  {
   "cell_type": "code",
   "execution_count": 32,
   "metadata": {},
   "outputs": [
    {
     "name": "stdout",
     "output_type": "stream",
     "text": [
      "The Chi_square test Statistic = 7.2779\n",
      "The Chi_square test p_value = 0.0635\n",
      "The Chi_square test degrees of freedom= 3\n"
     ]
    }
   ],
   "source": [
    "print(\"The Chi_square test Statistic = {:.4f}\".format(chi2_stat))\n",
    "print(\"The Chi_square test p_value = {:.4f}\".format(p))\n",
    "print(\"The Chi_square test degrees of freedom= {}\".format(dof))"
   ]
  },
  {
   "cell_type": "code",
   "execution_count": 33,
   "metadata": {},
   "outputs": [
    {
     "name": "stdout",
     "output_type": "stream",
     "text": [
      "The Chi_square test expected frequencies\n"
     ]
    },
    {
     "data": {
      "text/plain": [
       "array([[257.60059835, 257.60059835, 289.40314136, 258.39566193],\n",
       "       [ 66.39940165,  66.39940165,  74.59685864,  66.60433807]])"
      ]
     },
     "execution_count": 33,
     "metadata": {},
     "output_type": "execute_result"
    }
   ],
   "source": [
    "print(\"The Chi_square test expected frequencies\")\n",
    "expected"
   ]
  },
  {
   "cell_type": "markdown",
   "metadata": {},
   "source": [
    "We need to calculate the **Critical Chi-Square Statistic** to determine if we should **Reject** or **Fail to Reject** the `Null Hypothesis`"
   ]
  },
  {
   "cell_type": "markdown",
   "metadata": {},
   "source": [
    "We obtain the **Critical Chi-Square Statistic** using the *level of significance* and *degrees of freedom*"
   ]
  },
  {
   "cell_type": "markdown",
   "metadata": {},
   "source": [
    "Import `chi2` function from scipy"
   ]
  },
  {
   "cell_type": "code",
   "execution_count": 34,
   "metadata": {},
   "outputs": [],
   "source": [
    "from scipy.stats import chi2"
   ]
  },
  {
   "cell_type": "markdown",
   "metadata": {},
   "source": [
    "Level of significance used in Hypotheses"
   ]
  },
  {
   "cell_type": "code",
   "execution_count": 35,
   "metadata": {},
   "outputs": [],
   "source": [
    "alpha = 0.05"
   ]
  },
  {
   "cell_type": "markdown",
   "metadata": {},
   "source": [
    "The **Critical Chi-Square Statistic**  is calculated from **chi2 percentage point function**"
   ]
  },
  {
   "cell_type": "code",
   "execution_count": 36,
   "metadata": {},
   "outputs": [],
   "source": [
    "critical_chi2 = chi2.ppf((1-alpha), dof)"
   ]
  },
  {
   "cell_type": "code",
   "execution_count": 37,
   "metadata": {},
   "outputs": [
    {
     "name": "stdout",
     "output_type": "stream",
     "text": [
      "The Critical Chi_square test Statistic = 7.8147\n"
     ]
    }
   ],
   "source": [
    "print(\"The Critical Chi_square test Statistic = {:.4f}\".format(critical_chi2))"
   ]
  },
  {
   "cell_type": "markdown",
   "metadata": {},
   "source": [
    "Compare the **Chi2-Square Statistic** to the **Critical Chi2-Square Statistic**"
   ]
  },
  {
   "cell_type": "code",
   "execution_count": 38,
   "metadata": {},
   "outputs": [
    {
     "name": "stdout",
     "output_type": "stream",
     "text": [
      "Chi2-Square Statistic < Critical Chi2-Square Statistic\n",
      "Fail to Reject the Null Hypothesis\n",
      "The Smoker and Region variables are independent\n",
      "There is no significant difference in proportions of Smoker and across different Regions\n"
     ]
    }
   ],
   "source": [
    "if abs(chi2_stat) >= critical_chi2:\n",
    "    print(\"Chi2-Square Statistic >= Critical Chi2-Square Statistic\")\n",
    "    print('Reject the Null Hypothesis')\n",
    "    print(\"The Smoker and Region variables are not independent\")\n",
    "    print(\"There is a significant difference in proportions of Smoker and across different Regions\")\n",
    "        \n",
    "else:\n",
    "    print(\"Chi2-Square Statistic < Critical Chi2-Square Statistic\")\n",
    "    print('Fail to Reject the Null Hypothesis')\n",
    "    print(\"The Smoker and Region variables are independent\")\n",
    "    print(\"There is no significant difference in proportions of Smoker and across different Regions\")    "
   ]
  },
  {
   "cell_type": "markdown",
   "metadata": {},
   "source": [
    "Compare the **p_value** to the **level of significance**"
   ]
  },
  {
   "cell_type": "code",
   "execution_count": 39,
   "metadata": {},
   "outputs": [
    {
     "name": "stdout",
     "output_type": "stream",
     "text": [
      "p_value > alpha\n",
      "Fail to Reject the Null Hypothesis\n",
      "The Smoker and Region variables are independent\n",
      "There is no significant difference in proportions of Smoker and across different Regions\n"
     ]
    }
   ],
   "source": [
    "if p <= alpha:\n",
    "    print(\"p_value < alpha\")\n",
    "    print('Reject the Null Hypothesis')\n",
    "    print(\"The Smoker and Region variables are not independent\")\n",
    "    print(\"There is a significant difference in proportions of Smoker and across different Regions\")\n",
    "    \n",
    "else:\n",
    "    print(\"p_value > alpha\")\n",
    "    print('Fail to Reject the Null Hypothesis')\n",
    "    print(\"The Smoker and Region variables are independent\")\n",
    "    print(\"There is no significant difference in proportions of Smoker and across different Regions\") "
   ]
  },
  {
   "cell_type": "markdown",
   "metadata": {},
   "source": [
    "Based on the Chi-square test for independence, we get a **p-value >0.05** & **Chi2-Sq Stat < Critical Chi2-Sq Stat**\n",
    "\n",
    "Therefore we **Fail to Reject the Null Hypothesis** which indicates that  **smoker** and **region** are independent."
   ]
  },
  {
   "cell_type": "markdown",
   "metadata": {},
   "source": [
    "<font color='red'>Thus we can state that at a **95% confidence level**, there is **NO** significant difference in the proportion of **smokers** in across different **regions** "
   ]
  },
  {
   "cell_type": "markdown",
   "metadata": {},
   "source": [
    "---"
   ]
  },
  {
   "cell_type": "markdown",
   "metadata": {},
   "source": [
    "## Is the mean BMI of women with no children, one child and two children the same?"
   ]
  },
  {
   "cell_type": "markdown",
   "metadata": {},
   "source": [
    "To do this we shall extract the `females` that who have at most 2 `children` on their policy."
   ]
  },
  {
   "cell_type": "code",
   "execution_count": 40,
   "metadata": {},
   "outputs": [],
   "source": [
    "female_child_2max = data[data['sex']==\"female\"][data['children']<=2]"
   ]
  },
  {
   "cell_type": "markdown",
   "metadata": {},
   "source": [
    "Let's visualize the distribution of the **Female BMI** up to 2 children."
   ]
  },
  {
   "cell_type": "code",
   "execution_count": 41,
   "metadata": {},
   "outputs": [
    {
     "data": {
      "image/png": "[encoded data removed]",
      "text/plain": [
       "<Figure size 500x500 with 1 Axes>"
      ]
     },
     "metadata": {},
     "output_type": "display_data"
    }
   ],
   "source": [
    "sns.catplot(y='bmi', x='children', kind=\"box\", data=female_child_2max, showmeans=True)\n",
    "plt.show();"
   ]
  },
  {
   "cell_type": "markdown",
   "metadata": {},
   "source": [
    "**Observations:**\n",
    "* The **female BMI** is identically distributed with customers having up to 2 children/dependents on their policy\n"
   ]
  },
  {
   "cell_type": "markdown",
   "metadata": {},
   "source": [
    "**Now let's prove it statistically.**"
   ]
  },
  {
   "cell_type": "markdown",
   "metadata": {},
   "source": [
    "Let's establish the following *hypotheses* comparing the **mean BMI of women** with **no children**, **one child** and **two children**: \n",
    "\n",
    "$H_o$ $:$ $\\text{The sample means are equal}$\n",
    "\n",
    "$H_a$ $:$ $\\text{At least one of the sample means are not equal}$\n",
    "\n",
    "With a level of significance: $\\alpha = 0.05$"
   ]
  },
  {
   "cell_type": "markdown",
   "metadata": {},
   "source": [
    "Let's generate the samples"
   ]
  },
  {
   "cell_type": "markdown",
   "metadata": {},
   "source": [
    "**Women BMI** with **no children**"
   ]
  },
  {
   "cell_type": "code",
   "execution_count": 42,
   "metadata": {},
   "outputs": [],
   "source": [
    "child_0 = female_child_2max[female_child_2max[\"children\"]==0][\"bmi\"]"
   ]
  },
  {
   "cell_type": "markdown",
   "metadata": {},
   "source": [
    "**Women BMI** with **one child**"
   ]
  },
  {
   "cell_type": "code",
   "execution_count": 43,
   "metadata": {},
   "outputs": [],
   "source": [
    "child_1 = female_child_2max[female_child_2max[\"children\"]==1][\"bmi\"]"
   ]
  },
  {
   "cell_type": "markdown",
   "metadata": {},
   "source": [
    "**Women BMI** with **two children**"
   ]
  },
  {
   "cell_type": "code",
   "execution_count": 44,
   "metadata": {},
   "outputs": [],
   "source": [
    "child_2 = female_child_2max[female_child_2max[\"children\"]==2][\"bmi\"]"
   ]
  },
  {
   "cell_type": "markdown",
   "metadata": {},
   "source": [
    "In order to evaluate the sample means we will need to conduct the **One Way Analysis of Variance (ANOVA)**.\n",
    "\n",
    "The following assumptions need to be fulfilled before administering **One Way Analysis of Variance (ANOVA)** tests.\n",
    "1. Independence\n",
    "2. Normality\n",
    "3. Samples have equal variances"
   ]
  },
  {
   "cell_type": "markdown",
   "metadata": {},
   "source": [
    "<span style=\"font-family: Arial; font-weight:bold;color:blue;\">**Test for Independence**"
   ]
  },
  {
   "cell_type": "markdown",
   "metadata": {},
   "source": [
    "Since the samples all came from independent portions of the `BMI` data, they can be assumed as independent groups."
   ]
  },
  {
   "cell_type": "markdown",
   "metadata": {},
   "source": [
    "<span style=\"font-family: Arial; font-weight:bold;color:blue;\">**Test for Normality**"
   ]
  },
  {
   "cell_type": "markdown",
   "metadata": {},
   "source": [
    "We shall conduct the Shapiro test for each sample to determine its fit to normality"
   ]
  },
  {
   "cell_type": "markdown",
   "metadata": {},
   "source": [
    "`Shapiro test` for **Women BMI** with **no children**"
   ]
  },
  {
   "cell_type": "code",
   "execution_count": 45,
   "metadata": {},
   "outputs": [
    {
     "name": "stdout",
     "output_type": "stream",
     "text": [
      " The Shapiro test p-value is 0.037568025290966034\n",
      "The child_0 sample distribution is NOT Normal as Shapiro p-value < 0.05\n"
     ]
    }
   ],
   "source": [
    "stat, p = shapiro(child_0)\n",
    "print(\" The Shapiro test p-value is {}\".format(p))\n",
    "if p > 0.05:\n",
    "    print('The child_0 sample is approximately Normal as Shapiro p-value > 0.05')\n",
    "else:\n",
    "    print('The child_0 sample distribution is NOT Normal as Shapiro p-value < 0.05')"
   ]
  },
  {
   "cell_type": "markdown",
   "metadata": {},
   "source": [
    "`Shapiro test` for **Women BMI** with **one child**"
   ]
  },
  {
   "cell_type": "code",
   "execution_count": 46,
   "metadata": {},
   "outputs": [
    {
     "name": "stdout",
     "output_type": "stream",
     "text": [
      " The Shapiro test p-value is 0.5361911654472351\n",
      "The child_1 sample is approximately Normal as Shapiro p-value > 0.05\n"
     ]
    }
   ],
   "source": [
    "stat, p = shapiro(child_1)\n",
    "print(\" The Shapiro test p-value is {}\".format(p))\n",
    "if p > 0.05:\n",
    "    print('The child_1 sample is approximately Normal as Shapiro p-value > 0.05')\n",
    "else:\n",
    "    print('The child_1 sample distribution is NOT Normal as Shapiro p-value < 0.05')"
   ]
  },
  {
   "cell_type": "markdown",
   "metadata": {},
   "source": [
    "`Shapiro test` for **Women BMI** with **two children**"
   ]
  },
  {
   "cell_type": "code",
   "execution_count": 47,
   "metadata": {},
   "outputs": [
    {
     "name": "stdout",
     "output_type": "stream",
     "text": [
      " The Shapiro test p-value is 0.2596122622489929\n",
      "The child_2 sample is approximately Normal as Shapiro p-value > 0.05\n"
     ]
    }
   ],
   "source": [
    "stat, p = shapiro(child_2)\n",
    "print(\" The Shapiro test p-value is {}\".format(p))\n",
    "if p > 0.05:\n",
    "    print('The child_2 sample is approximately Normal as Shapiro p-value > 0.05')\n",
    "else:\n",
    "    print('The child_2 sample distribution is NOT Normal as Shapiro p-value < 0.05')"
   ]
  },
  {
   "cell_type": "markdown",
   "metadata": {},
   "source": [
    "Based on the `Shapiro test` for each variable"
   ]
  },
  {
   "cell_type": "markdown",
   "metadata": {},
   "source": [
    "* For **Women BMI** with **no children** we get a **p-value <0.05** and **Reject the Null Hypothesis**.   \n",
    "\n",
    "  This implies **Women BMI** with **no children** is not normally distributed."
   ]
  },
  {
   "cell_type": "markdown",
   "metadata": {},
   "source": [
    "* For **Women BMI** with **one child** we get a **p-value >0.05** and **Fail to Reject the Null Hypothesis**.  \n",
    "\n",
    "  This implies **Women BMI** with **one child** is normally distributed."
   ]
  },
  {
   "cell_type": "markdown",
   "metadata": {},
   "source": [
    "* For **Women BMI** with **two children** we get a **p-value >0.05** and **Fail to Reject the Null Hypothesis**. \n",
    "\n",
    "  This implies **Women BMI** with **two children** is normally distributed."
   ]
  },
  {
   "cell_type": "markdown",
   "metadata": {},
   "source": [
    "<font color='red'> Therefore we can conclude the following at the *5% significance level*:\n",
    "* **Women BMI** with **no children** is not normally distributed\n",
    "* **Women BMI** with **one child** is normally distributed.\n",
    "* **Women BMI** with **two children** is normally distributed."
   ]
  },
  {
   "cell_type": "markdown",
   "metadata": {},
   "source": [
    "<span style=\"font-family: Arial; font-weight:bold;color:blue;\">**Test for Equal Variances**"
   ]
  },
  {
   "cell_type": "markdown",
   "metadata": {},
   "source": [
    "We shall conduct the `Levene` test for equal variances across series."
   ]
  },
  {
   "cell_type": "code",
   "execution_count": 48,
   "metadata": {},
   "outputs": [
    {
     "name": "stdout",
     "output_type": "stream",
     "text": [
      " The Levene test p-value is 0.3899432394522804\n",
      "The child_0, child_1, child_2 samples DO have equal variances as Levene p-value > 0.05\n"
     ]
    }
   ],
   "source": [
    "stat, p = levene(child_0,child_1,child_2)\n",
    "print(\" The Levene test p-value is {}\".format(p))\n",
    "if p > 0.05:\n",
    "    print('The child_0, child_1, child_2 samples DO have equal variances as Levene p-value > 0.05')\n",
    "else:\n",
    "    print('The child_0, child_1, child_2 samples DO NOT have equal variances as Levene p-value < 0.05')"
   ]
  },
  {
   "cell_type": "markdown",
   "metadata": {},
   "source": [
    "Based on the `Levene test`, we get a **p-value >0.05** and **Fail to Reject the Null Hypothesis**."
   ]
  },
  {
   "cell_type": "markdown",
   "metadata": {},
   "source": [
    "<font color='red'>Therefore we can conclude at the *5% significance level* that the **Women BMI** with **no children**, **one child** and **two children** samples **do** have equal variances"
   ]
  },
  {
   "cell_type": "markdown",
   "metadata": {},
   "source": [
    "Although, the *Shapiro test* indicated *non-normality* at a *5% significance level* for the **Women BMI** with **no children**, we shall still proceed to conduct the **One Way Analysis of Variance (ANOVA)** test as the assumptions of *Independence* and *Homogeniety of Variances* were upheld."
   ]
  },
  {
   "cell_type": "markdown",
   "metadata": {},
   "source": [
    "<span style=\"font-family: Arial; font-weight:bold;color:blue;\">**One Way Analysis of Variance(ANOVA)**"
   ]
  },
  {
   "cell_type": "markdown",
   "metadata": {},
   "source": [
    "Let's conduct the One Way ANOVA test:"
   ]
  },
  {
   "cell_type": "markdown",
   "metadata": {},
   "source": [
    "Import `f_oneway` function from scipy"
   ]
  },
  {
   "cell_type": "code",
   "execution_count": 49,
   "metadata": {},
   "outputs": [],
   "source": [
    "from scipy.stats import f_oneway"
   ]
  },
  {
   "cell_type": "code",
   "execution_count": 50,
   "metadata": {},
   "outputs": [
    {
     "name": "stdout",
     "output_type": "stream",
     "text": [
      " The One Way Analysis of Variance test p-value is 0.7158579926754841\n",
      "The mean BMI of women with no children, one child and two children are the same as p-value > .05\n"
     ]
    }
   ],
   "source": [
    "stat, p = f_oneway(child_0,child_1,child_2)\n",
    "print(\" The One Way Analysis of Variance test p-value is {}\".format(p))\n",
    "if p > 0.05:\n",
    "    print('The mean BMI of women with no children, one child and two children are the same as p-value > .05')\n",
    "else:\n",
    "    print('At least one of the women BMI sample means with no children, one child and two children is NOT equal as p-value < .05')"
   ]
  },
  {
   "cell_type": "markdown",
   "metadata": {},
   "source": [
    "Based on the **One Way Analysis of Variance (ANOVA)**, we get a **p-value >.05** and **Fail to Reject the Null Hypothesis**.\n",
    "\n",
    "Therefore we can conclude that the mean BMI of women with no children, one child and two children are equal at a **5% significance level**. \n",
    "    \n",
    "<font color='red'>Since the **One Way Analysis of Variance (ANOVA)** Null Hypothesis was *failed to be rejected* for *pvalue >0.05*, we can state that with *95% confidence*, mean BMI of women with no children, one child and two children is the same."
   ]
  },
  {
   "cell_type": "markdown",
   "metadata": {},
   "source": [
    "---"
   ]
  }
 ],
 "metadata": {
  "kernelspec": {
   "display_name": "Python 3 (ipykernel)",
   "language": "python",
   "name": "python3"
  },
  "language_info": {
   "codemirror_mode": {
    "name": "ipython",
    "version": 3
   },
   "file_extension": ".py",
   "mimetype": "text/x-python",
   "name": "python",
   "nbconvert_exporter": "python",
   "pygments_lexer": "ipython3",
   "version": "3.11.5"
  },
  "toc": {
   "base_numbering": 1,
   "nav_menu": {},
   "number_sections": true,
   "sideBar": true,
   "skip_h1_title": false,
   "title_cell": "Table of Contents",
   "title_sidebar": "Contents",
   "toc_cell": false,
   "toc_position": {
    "height": "calc(100% - 180px)",
    "left": "10px",
    "top": "150px",
    "width": "347.628px"
   },
   "toc_section_display": true,
   "toc_window_display": true
  },
  "varInspector": {
   "cols": {
    "lenName": 16,
    "lenType": 16,
    "lenVar": 40
   },
   "kernels_config": {
    "python": {
     "delete_cmd_postfix": "",
     "delete_cmd_prefix": "del ",
     "library": "var_list.py",
     "varRefreshCmd": "print(var_dic_list())"
    },
    "r": {
     "delete_cmd_postfix": ") ",
     "delete_cmd_prefix": "rm(",
     "library": "var_list.r",
     "varRefreshCmd": "cat(var_dic_list()) "
    }
   },
   "types_to_exclude": [
    "module",
    "function",
    "builtin_function_or_method",
    "instance",
    "_Feature"
   ],
   "window_display": false
  }
 },
 "nbformat": 4,
 "nbformat_minor": 4
}
